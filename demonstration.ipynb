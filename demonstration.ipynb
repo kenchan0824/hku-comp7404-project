{
 "cells": [
  {
   "cell_type": "markdown",
   "metadata": {
    "collapsed": true
   },
   "source": [
    "# Collaborative Filtering Demonstration"
   ]
  },
  {
   "cell_type": "code",
   "execution_count": 1,
   "metadata": {
    "collapsed": true
   },
   "outputs": [],
   "source": [
    "import scipy.io\n",
    "import scipy.optimize\n",
    "import numpy as np\n",
    "\n",
    "np.random.seed(7404)"
   ]
  },
  {
   "cell_type": "markdown",
   "metadata": {},
   "source": [
    "## 1. Load Data from Files"
   ]
  },
  {
   "cell_type": "code",
   "execution_count": 2,
   "metadata": {},
   "outputs": [
    {
     "name": "stdout",
     "output_type": "stream",
     "text": [
      "1682\n",
      "['Toy Story (1995)', 'GoldenEye (1995)', 'Four Rooms (1995)', 'Get Shorty (1995)', 'Copycat (1995)']\n"
     ]
    }
   ],
   "source": [
    "file = open(\"movie_ids.txt\")\n",
    "\n",
    "movieList_ = []\n",
    "for line in file.readlines():\n",
    "    movieName = line.split()[1:]\n",
    "    movieList_.append(' '.join(movieName))\n",
    "\n",
    "# no. of movies in dataset\n",
    "print(len(movieList_))\n",
    "print(movieList_[:5])"
   ]
  },
  {
   "cell_type": "code",
   "execution_count": 3,
   "metadata": {},
   "outputs": [
    {
     "name": "stdout",
     "output_type": "stream",
     "text": [
      "(943, 1682)\n",
      "[[5 3 4 ..., 0 0 0]\n",
      " [4 0 0 ..., 0 0 0]\n",
      " [0 0 0 ..., 0 0 0]\n",
      " [0 0 0 ..., 0 0 0]\n",
      " [4 3 0 ..., 0 0 0]]\n",
      "(943, 1682)\n",
      "[[1 1 1 ..., 0 0 0]\n",
      " [1 0 0 ..., 0 0 0]\n",
      " [0 0 0 ..., 0 0 0]\n",
      " [0 0 0 ..., 0 0 0]\n",
      " [1 1 0 ..., 0 0 0]]\n"
     ]
    }
   ],
   "source": [
    "data = scipy.io.loadmat('ex8_movies.mat')\n",
    "Y_ = data['Y'].T\n",
    "R_ = data['R'].T\n",
    "\n",
    "# demensions and sample contents\n",
    "print(Y_.shape)\n",
    "print(Y_[:5])\n",
    "print(R_.shape)\n",
    "print(R_[:5])"
   ]
  },
  {
   "cell_type": "markdown",
   "metadata": {},
   "source": [
    "## 2. Data Pre-processing"
   ]
  },
  {
   "cell_type": "code",
   "execution_count": 4,
   "metadata": {},
   "outputs": [
    {
     "name": "stdout",
     "output_type": "stream",
     "text": [
      "100\n",
      "(943, 100)\n"
     ]
    },
    {
     "data": {
      "text/plain": [
       "['Star Wars (1977)',\n",
       " 'Contact (1997)',\n",
       " 'Fargo (1996)',\n",
       " 'Return of the Jedi (1983)',\n",
       " 'Liar Liar (1997)',\n",
       " 'English Patient, The (1996)',\n",
       " 'Scream (1996)',\n",
       " 'Toy Story (1995)',\n",
       " 'Air Force One (1997)',\n",
       " 'Independence Day (ID4) (1996)']"
      ]
     },
     "execution_count": 4,
     "metadata": {},
     "output_type": "execute_result"
    }
   ],
   "source": [
    "# shortlist top 100 most rated movies\n",
    "top100 = np.sum(R_, axis=0).argsort()[-100:][::-1]\n",
    "movieList = [movieList_[i] for i in top100]\n",
    "print(len(movieList))\n",
    "Y = Y_[:, top100]\n",
    "R = R_[:, top100]\n",
    "print(Y.shape)\n",
    "\n",
    "# top 10 movies in our shortlist\n",
    "movieList[:10]"
   ]
  },
  {
   "cell_type": "code",
   "execution_count": 5,
   "metadata": {},
   "outputs": [
    {
     "name": "stdout",
     "output_type": "stream",
     "text": [
      "(943, 100)\n",
      "[ 0.64150943  1.19646365  0.84448819  0.99211045 -0.         -0.         -0.\n",
      "  1.12168142 -0.          0.56177156  0.74761905  0.71670702 -0.06091371\n",
      "  0.20153061 -0.28974359 -1.7109375  -0.69312169  0.79564033  0.33972603\n",
      " -0.          1.16571429 -0.         -0.04464286  0.0694864   0.36809816\n",
      "  0.82716049 -0.85358255  0.9335443  -0.          1.07301587  0.25412541\n",
      "  1.06644518 -0.          1.10367893 -0.         -0.         -0.\n",
      " -0.15151515  0.99322034 -0.          0.55631399  1.221843   -0.21501706\n",
      "  0.96563574  1.08965517  1.0528169   0.55477032  0.225       1.23571429\n",
      "  0.06884058  0.83695652  0.86181818  1.51470588 -0.          0.61423221\n",
      " -0.         -0.          1.27969349 -0.          0.03088803 -0.79296875\n",
      "  0.125       1.20784314 -0.         -0.66135458 -0.          0.16334661\n",
      "  1.08366534 -0.         -0.7854251  -0.07723577 -0.55737705  1.18442623\n",
      "  0.12757202 -0.         -0.05809129 -1.10833333 -0.          0.89539749\n",
      " -0.10041841 -1.84745763 -0.         -0.         -0.         -0.\n",
      "  0.13656388 -0.          0.04867257 -0.         -2.76576577 -0.90950226\n",
      " -1.04524887 -0.          0.51818182 -0.78181818 -2.99543379  0.18721461\n",
      " -0.         -0.         -0.        ]\n"
     ]
    }
   ],
   "source": [
    "def normalize(Y, R):\n",
    "    Ymean = np.sum(Y*R, axis=0) / np.sum(R, axis=0) # (n, 1)\n",
    "    # auto broadcast (m, n) - (1, n)\n",
    "    Ynorm = (Y - Ymean.reshape(1, -1)) * R\n",
    "    return Ynorm\n",
    "\n",
    "# normalize ratings to center on 0\n",
    "Ynorm = normalize(Y, R)\n",
    "print(Ynorm.shape)\n",
    "print(Ynorm[0])"
   ]
  },
  {
   "cell_type": "markdown",
   "metadata": {},
   "source": [
    "## 3. Parameters Initiation"
   ]
  },
  {
   "cell_type": "code",
   "execution_count": 6,
   "metadata": {},
   "outputs": [
    {
     "data": {
      "text/plain": [
       "(3129,)"
      ]
     },
     "execution_count": 6,
     "metadata": {},
     "output_type": "execute_result"
    }
   ],
   "source": [
    "# define demensions\n",
    "# m - no. of users\n",
    "# n - no. of movies\n",
    "# k - no. of latent factors (hidden features)\n",
    "m, n = Y.shape\n",
    "k = 3\n",
    "\n",
    "# initiate parameters with random numbers\n",
    "# Theta - the users preference to hidden features\n",
    "# X - the movies tendency to hidden features\n",
    "Theta_init = np.random.randn(m, k)\n",
    "X_init = np.random.randn(n, k)\n",
    "\n",
    "# define L2 regularization constant\n",
    "L2 = 2.0\n",
    "\n",
    "# unroll parameters\n",
    "params_init = np.append(Theta_init.reshape(-1), X_init.reshape(-1)) # (m x k) + (n x k)\n",
    "params_init.shape"
   ]
  },
  {
   "cell_type": "markdown",
   "metadata": {},
   "source": [
    "## 4. Define the Cost Function"
   ]
  },
  {
   "cell_type": "code",
   "execution_count": 7,
   "metadata": {
    "collapsed": true
   },
   "outputs": [],
   "source": [
    "def costFunction(params, Y, R, m, n, k, L2):\n",
    "    \n",
    "    # roll back parameters\n",
    "    Theta = params[:(m*k)].reshape(m, k)\n",
    "    X = params[(m*k):].reshape(n, k)\n",
    "\n",
    "    # calculate cost (J)\n",
    "    E = (Theta.dot(X.T) - Y) * R        # (m x n)\n",
    "    # J = SSE + Regularization Terms\n",
    "    J = 0.5 * np.sum(E**2) + 0.5 * L2 * (np.sum(Theta**2) + np.sum(X**2)) # scalar\n",
    "\n",
    "    # calculate gradients\n",
    "    dJ_dTheta = E.dot(X) + L2 * Theta   # (m x n) x (n x k) = (m x k)\n",
    "    dJ_dX = E.T.dot(Theta) + L2 * X     # (n x m) x (m x k) = (n x k)\n",
    "\n",
    "    # unroll gradients\n",
    "    grads = np.append(dJ_dTheta.reshape(-1), dJ_dX.reshape(-1)) # (m + n) x k\n",
    "    return J, grads\n"
   ]
  },
  {
   "cell_type": "markdown",
   "metadata": {},
   "source": [
    "## 5. Minimize the Cost Function"
   ]
  },
  {
   "cell_type": "code",
   "execution_count": 8,
   "metadata": {},
   "outputs": [
    {
     "data": {
      "text/plain": [
       "      fun: 9987.2951619243904\n",
       " hess_inv: <3129x3129 LbfgsInvHessProduct with dtype=float64>\n",
       "      jac: array([  9.67622661e-05,  -1.64833720e-04,  -4.75883352e-04, ...,\n",
       "        -6.43348488e-04,  -5.60441463e-04,  -9.89050378e-04])\n",
       "  message: b'CONVERGENCE: REL_REDUCTION_OF_F_<=_FACTR*EPSMCH'\n",
       "     nfev: 86\n",
       "      nit: 79\n",
       "   status: 0\n",
       "  success: True\n",
       "        x: array([ 0.10519864, -0.31942417,  0.22365613, ..., -1.07501069,\n",
       "       -0.58499031, -1.43149514])"
      ]
     },
     "execution_count": 8,
     "metadata": {},
     "output_type": "execute_result"
    }
   ],
   "source": [
    "result = scipy.optimize.minimize(fun = costFunction, \n",
    "                                 x0 = params_init, \n",
    "                                 args = (Ynorm, R, m, n, k, L2),                                 \n",
    "                                 method='L-BFGS-B',\n",
    "                                 jac=True,  # return gradients in cost function\n",
    "                                 options={'disp': True, 'maxiter': 1000}\n",
    "                                )\n",
    "result"
   ]
  },
  {
   "cell_type": "code",
   "execution_count": 9,
   "metadata": {
    "collapsed": true
   },
   "outputs": [],
   "source": [
    "params = result.x\n",
    "# roll back the parameters\n",
    "Theta = params[:(m*k)].reshape(m, k)\n",
    "X = params[(m*k):].reshape(n, k)"
   ]
  },
  {
   "cell_type": "markdown",
   "metadata": {},
   "source": [
    "## 6. Latent Factor Analysis"
   ]
  },
  {
   "cell_type": "code",
   "execution_count": 10,
   "metadata": {
    "scrolled": true
   },
   "outputs": [
    {
     "name": "stdout",
     "output_type": "stream",
     "text": [
      "[('Clockwork Orange, A (1971)', '2.60'), ('Pulp Fiction (1994)', '2.44'), ('Leaving Las Vegas (1995)', '2.40'), ('Trainspotting (1996)', '2.18'), ('Apocalypse Now (1979)', '2.06'), ('Dead Man Walking (1995)', '1.89'), ('Godfather, The (1972)', '1.87'), ('Chasing Amy (1997)', '1.86'), ('Raising Arizona (1987)', '1.86'), ('GoodFellas (1990)', '1.78')]\n",
      "\n",
      "[('English Patient, The (1996)', '0.87'), ('Evita (1996)', '0.44'), ('Dead Man Walking (1995)', '0.32'), ('Graduate, The (1967)', '0.29'), ('Leaving Las Vegas (1995)', '0.18'), ('To Kill a Mockingbird (1962)', '0.10'), ('Fargo (1996)', '0.09'), ('Full Monty, The (1997)', '0.04'), ('Sense and Sensibility (1995)', '0.02'), ('Birdcage, The (1996)', '-0.05')]\n",
      "\n",
      "[('Star Wars (1977)', '0.95'), ('Alien (1979)', '0.90'), ('Return of the Jedi (1983)', '0.79'), ('2001: A Space Odyssey (1968)', '0.76'), ('Empire Strikes Back, The (1980)', '0.73'), ('Clockwork Orange, A (1971)', '0.67'), ('Monty Python and the Holy Grail (1974)', '0.67'), ('Blade Runner (1982)', '0.64'), ('Terminator, The (1984)', '0.60'), ('Star Trek: The Wrath of Khan (1982)', '0.54')]\n",
      "\n"
     ]
    }
   ],
   "source": [
    "# list top 10 tendency movies in latent factor 0, 1 & 2\n",
    "print([(movieList[i], '%.2f'%X[i,0]) for i in X[:,0].argsort()[-10:][::-1]])\n",
    "print()\n",
    "print([(movieList[i], '%.2f'%X[i,1]) for i in X[:,1].argsort()[-10:][::-1]])\n",
    "print()\n",
    "print([(movieList[i], '%.2f'%X[i,2]) for i in X[:,2].argsort()[-10:][::-1]])\n",
    "print()"
   ]
  },
  {
   "cell_type": "markdown",
   "metadata": {},
   "source": [
    "## 7. Recommending Movies"
   ]
  },
  {
   "cell_type": "code",
   "execution_count": 11,
   "metadata": {},
   "outputs": [
    {
     "data": {
      "text/plain": [
       "201"
      ]
     },
     "execution_count": 11,
     "metadata": {},
     "output_type": "execute_result"
    }
   ],
   "source": [
    "# find the Terminator fan with least rating activities\n",
    "# 31 - Terminator, The (1984)\n",
    "# 38 - Terminator 2: Judgment Day (1991)\n",
    "terminator_fans = np.where((Y[:, 31] >= 4) & (Y[:, 38] >= 4))[0]\n",
    "uid = terminator_fans[np.sum(R[terminator_fans], axis=1).argsort()[0]]\n",
    "uid"
   ]
  },
  {
   "cell_type": "code",
   "execution_count": 12,
   "metadata": {},
   "outputs": [
    {
     "data": {
      "text/plain": [
       "[('Terminator, The (1984)', 4),\n",
       " ('Contact (1997)', 4),\n",
       " ('Terminator 2: Judgment Day (1991)', 4),\n",
       " ('Full Monty, The (1997)', 4),\n",
       " ('Toy Story (1995)', 3),\n",
       " ('Back to the Future (1985)', 3),\n",
       " ('E.T. the Extra-Terrestrial (1982)', 3),\n",
       " ('Empire Strikes Back, The (1980)', 3),\n",
       " ('Princess Bride, The (1987)', 2),\n",
       " ('Amadeus (1984)', 2)]"
      ]
     },
     "execution_count": 12,
     "metadata": {},
     "output_type": "execute_result"
    }
   ],
   "source": [
    "# list what he has rated\n",
    "[(movieList[i], Y[uid,i]) for i in Y[uid].argsort()[-10:][::-1]]"
   ]
  },
  {
   "cell_type": "code",
   "execution_count": 13,
   "metadata": {},
   "outputs": [
    {
     "data": {
      "text/plain": [
       "['Conspiracy Theory (1997)',\n",
       " 'Murder at 1600 (1997)',\n",
       " 'Volcano (1997)',\n",
       " 'Independence Day (ID4) (1996)',\n",
       " 'Saint, The (1997)']"
      ]
     },
     "execution_count": 13,
     "metadata": {},
     "output_type": "execute_result"
    }
   ],
   "source": [
    "# what we suggest to him\n",
    "[movieList[i] for i in Theta.dot(X.T)[uid].argsort()[-5:][::-1]]"
   ]
  },
  {
   "cell_type": "code",
   "execution_count": null,
   "metadata": {
    "collapsed": true
   },
   "outputs": [],
   "source": []
  }
 ],
 "metadata": {
  "kernelspec": {
   "display_name": "Python 3",
   "language": "python",
   "name": "python3"
  },
  "language_info": {
   "codemirror_mode": {
    "name": "ipython",
    "version": 3
   },
   "file_extension": ".py",
   "mimetype": "text/x-python",
   "name": "python",
   "nbconvert_exporter": "python",
   "pygments_lexer": "ipython3",
   "version": "3.6.1"
  }
 },
 "nbformat": 4,
 "nbformat_minor": 2
}
